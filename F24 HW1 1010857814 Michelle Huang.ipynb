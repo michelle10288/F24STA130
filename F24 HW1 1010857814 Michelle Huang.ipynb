{
 "cells": [
  {
   "cell_type": "markdown",
   "id": "c54632c9",
   "metadata": {},
   "source": [
    "1.Pick one of the datasets from the ChatBot session(s) of the TUT demo (or from your own ChatBot session if you wish) and use the code produced through the ChatBot interactions to import the data and confirm that the dataset has missing values"
   ]
  },
  {
   "cell_type": "code",
   "execution_count": 2,
   "id": "396cf216",
   "metadata": {},
   "outputs": [
    {
     "data": {
      "text/plain": [
       "row_n           0\n",
       "id              1\n",
       "name            0\n",
       "gender          0\n",
       "species         0\n",
       "birthday        0\n",
       "personality     0\n",
       "song           11\n",
       "phrase          0\n",
       "full_id         0\n",
       "url             0\n",
       "dtype: int64"
      ]
     },
     "execution_count": 2,
     "metadata": {},
     "output_type": "execute_result"
    }
   ],
   "source": [
    "import pandas as pd\n",
    "url = \"https://raw.githubusercontent.com/rfordatascience/tidytuesday/master/data/2020/2020-05-05/villagers.csv\"\n",
    "df = pd.read_csv(url)\n",
    "df.isna().sum()"
   ]
  },
  {
   "cell_type": "markdown",
   "id": "68cadd6c",
   "metadata": {},
   "source": [
    " 2.Start a new ChatBot session with an initial prompt introducing the dataset you're using and request help to determine how many columns and rows of data a pandas DataFrame has, and then \n",
    "    use code provided in your ChatBot session to print out the number of rows and columns of the dataset; and,\n",
    "    write your own general definitions of the meaning of \"observations\" and \"variables\" based on asking the ChatBot to explain these terms in the context of your dataset"
   ]
  },
  {
   "cell_type": "code",
   "execution_count": 7,
   "id": "3ffbb8d4",
   "metadata": {},
   "outputs": [
    {
     "name": "stdout",
     "output_type": "stream",
     "text": [
      "Number of rows: 391\n",
      "Number of columns: 11\n"
     ]
    }
   ],
   "source": [
    "#calculate number of rows and columns\n",
    "num_row,num_col = df.shape\n",
    "print(f\"Number of rows: {num_row}\")\n",
    "print(f\"Number of columns: {num_col}\")"
   ]
  },
  {
   "cell_type": "markdown",
   "id": "1828fb6d",
   "metadata": {},
   "source": [
    "In the context of villager.csv, observations refer to the row of dataset, in this case, is referring to a single villager from the dataset. For instance, each row in the dataframe represents a single villager and contains information about that particular villager if your dataset contains information on the names, personalities, and other characteristics of the villagers. \n",
    "Variables refer to the column of dataset; they stand for several kinds of data or attributes that are gathered for every observation.The DataFrame's many columns are the variables. Each column in your dataset, for example, represents a distinct variable if it includes columns for name, personality, species, gender, etc. Various kinds of information about the villagers are stored in these variables."
   ]
  },
  {
   "cell_type": "markdown",
   "id": "004e91bb",
   "metadata": {},
   "source": [
    "3.Ask the ChatBot how you can provide simple summaries of the columns in the dataset and use the suggested code to provide these summaries for your dataset"
   ]
  },
  {
   "cell_type": "code",
   "execution_count": 4,
   "id": "932348bb",
   "metadata": {},
   "outputs": [
    {
     "data": {
      "text/html": [
       "<div>\n",
       "<style scoped>\n",
       "    .dataframe tbody tr th:only-of-type {\n",
       "        vertical-align: middle;\n",
       "    }\n",
       "\n",
       "    .dataframe tbody tr th {\n",
       "        vertical-align: top;\n",
       "    }\n",
       "\n",
       "    .dataframe thead th {\n",
       "        text-align: right;\n",
       "    }\n",
       "</style>\n",
       "<table border=\"1\" class=\"dataframe\">\n",
       "  <thead>\n",
       "    <tr style=\"text-align: right;\">\n",
       "      <th></th>\n",
       "      <th>row_n</th>\n",
       "      <th>id</th>\n",
       "      <th>name</th>\n",
       "      <th>gender</th>\n",
       "      <th>species</th>\n",
       "      <th>birthday</th>\n",
       "      <th>personality</th>\n",
       "      <th>song</th>\n",
       "      <th>phrase</th>\n",
       "      <th>full_id</th>\n",
       "      <th>url</th>\n",
       "    </tr>\n",
       "  </thead>\n",
       "  <tbody>\n",
       "    <tr>\n",
       "      <th>0</th>\n",
       "      <td>2</td>\n",
       "      <td>admiral</td>\n",
       "      <td>Admiral</td>\n",
       "      <td>male</td>\n",
       "      <td>bird</td>\n",
       "      <td>1-27</td>\n",
       "      <td>cranky</td>\n",
       "      <td>Steep Hill</td>\n",
       "      <td>aye aye</td>\n",
       "      <td>villager-admiral</td>\n",
       "      <td>https://villagerdb.com/images/villagers/thumb/...</td>\n",
       "    </tr>\n",
       "    <tr>\n",
       "      <th>1</th>\n",
       "      <td>3</td>\n",
       "      <td>agent-s</td>\n",
       "      <td>Agent S</td>\n",
       "      <td>female</td>\n",
       "      <td>squirrel</td>\n",
       "      <td>7-2</td>\n",
       "      <td>peppy</td>\n",
       "      <td>DJ K.K.</td>\n",
       "      <td>sidekick</td>\n",
       "      <td>villager-agent-s</td>\n",
       "      <td>https://villagerdb.com/images/villagers/thumb/...</td>\n",
       "    </tr>\n",
       "    <tr>\n",
       "      <th>2</th>\n",
       "      <td>4</td>\n",
       "      <td>agnes</td>\n",
       "      <td>Agnes</td>\n",
       "      <td>female</td>\n",
       "      <td>pig</td>\n",
       "      <td>4-21</td>\n",
       "      <td>uchi</td>\n",
       "      <td>K.K. House</td>\n",
       "      <td>snuffle</td>\n",
       "      <td>villager-agnes</td>\n",
       "      <td>https://villagerdb.com/images/villagers/thumb/...</td>\n",
       "    </tr>\n",
       "    <tr>\n",
       "      <th>3</th>\n",
       "      <td>6</td>\n",
       "      <td>al</td>\n",
       "      <td>Al</td>\n",
       "      <td>male</td>\n",
       "      <td>gorilla</td>\n",
       "      <td>10-18</td>\n",
       "      <td>lazy</td>\n",
       "      <td>Steep Hill</td>\n",
       "      <td>Ayyeeee</td>\n",
       "      <td>villager-al</td>\n",
       "      <td>https://villagerdb.com/images/villagers/thumb/...</td>\n",
       "    </tr>\n",
       "    <tr>\n",
       "      <th>4</th>\n",
       "      <td>7</td>\n",
       "      <td>alfonso</td>\n",
       "      <td>Alfonso</td>\n",
       "      <td>male</td>\n",
       "      <td>alligator</td>\n",
       "      <td>6-9</td>\n",
       "      <td>lazy</td>\n",
       "      <td>Forest Life</td>\n",
       "      <td>it'sa me</td>\n",
       "      <td>villager-alfonso</td>\n",
       "      <td>https://villagerdb.com/images/villagers/thumb/...</td>\n",
       "    </tr>\n",
       "    <tr>\n",
       "      <th>...</th>\n",
       "      <td>...</td>\n",
       "      <td>...</td>\n",
       "      <td>...</td>\n",
       "      <td>...</td>\n",
       "      <td>...</td>\n",
       "      <td>...</td>\n",
       "      <td>...</td>\n",
       "      <td>...</td>\n",
       "      <td>...</td>\n",
       "      <td>...</td>\n",
       "      <td>...</td>\n",
       "    </tr>\n",
       "    <tr>\n",
       "      <th>386</th>\n",
       "      <td>475</td>\n",
       "      <td>winnie</td>\n",
       "      <td>Winnie</td>\n",
       "      <td>female</td>\n",
       "      <td>horse</td>\n",
       "      <td>1-31</td>\n",
       "      <td>peppy</td>\n",
       "      <td>My Place</td>\n",
       "      <td>hay-OK</td>\n",
       "      <td>villager-winnie</td>\n",
       "      <td>https://villagerdb.com/images/villagers/thumb/...</td>\n",
       "    </tr>\n",
       "    <tr>\n",
       "      <th>387</th>\n",
       "      <td>477</td>\n",
       "      <td>wolfgang</td>\n",
       "      <td>Wolfgang</td>\n",
       "      <td>male</td>\n",
       "      <td>wolf</td>\n",
       "      <td>11-25</td>\n",
       "      <td>cranky</td>\n",
       "      <td>K.K. Song</td>\n",
       "      <td>snarrrl</td>\n",
       "      <td>villager-wolfgang</td>\n",
       "      <td>https://villagerdb.com/images/villagers/thumb/...</td>\n",
       "    </tr>\n",
       "    <tr>\n",
       "      <th>388</th>\n",
       "      <td>480</td>\n",
       "      <td>yuka</td>\n",
       "      <td>Yuka</td>\n",
       "      <td>female</td>\n",
       "      <td>koala</td>\n",
       "      <td>7-20</td>\n",
       "      <td>snooty</td>\n",
       "      <td>Soulful K.K.</td>\n",
       "      <td>tsk tsk</td>\n",
       "      <td>villager-yuka</td>\n",
       "      <td>https://villagerdb.com/images/villagers/thumb/...</td>\n",
       "    </tr>\n",
       "    <tr>\n",
       "      <th>389</th>\n",
       "      <td>481</td>\n",
       "      <td>zell</td>\n",
       "      <td>Zell</td>\n",
       "      <td>male</td>\n",
       "      <td>deer</td>\n",
       "      <td>6-7</td>\n",
       "      <td>smug</td>\n",
       "      <td>K.K. D&amp;B</td>\n",
       "      <td>pronk</td>\n",
       "      <td>villager-zell</td>\n",
       "      <td>https://villagerdb.com/images/villagers/thumb/...</td>\n",
       "    </tr>\n",
       "    <tr>\n",
       "      <th>390</th>\n",
       "      <td>483</td>\n",
       "      <td>zucker</td>\n",
       "      <td>Zucker</td>\n",
       "      <td>male</td>\n",
       "      <td>octopus</td>\n",
       "      <td>3-8</td>\n",
       "      <td>lazy</td>\n",
       "      <td>Spring Blossoms</td>\n",
       "      <td>bloop</td>\n",
       "      <td>villager-zucker</td>\n",
       "      <td>https://villagerdb.com/images/villagers/thumb/...</td>\n",
       "    </tr>\n",
       "  </tbody>\n",
       "</table>\n",
       "<p>391 rows × 11 columns</p>\n",
       "</div>"
      ],
      "text/plain": [
       "     row_n        id      name  gender    species birthday personality  \\\n",
       "0        2   admiral   Admiral    male       bird     1-27      cranky   \n",
       "1        3   agent-s   Agent S  female   squirrel      7-2       peppy   \n",
       "2        4     agnes     Agnes  female        pig     4-21        uchi   \n",
       "3        6        al        Al    male    gorilla    10-18        lazy   \n",
       "4        7   alfonso   Alfonso    male  alligator      6-9        lazy   \n",
       "..     ...       ...       ...     ...        ...      ...         ...   \n",
       "386    475    winnie    Winnie  female      horse     1-31       peppy   \n",
       "387    477  wolfgang  Wolfgang    male       wolf    11-25      cranky   \n",
       "388    480      yuka      Yuka  female      koala     7-20      snooty   \n",
       "389    481      zell      Zell    male       deer      6-7        smug   \n",
       "390    483    zucker    Zucker    male    octopus      3-8        lazy   \n",
       "\n",
       "                song    phrase            full_id  \\\n",
       "0         Steep Hill   aye aye   villager-admiral   \n",
       "1            DJ K.K.  sidekick   villager-agent-s   \n",
       "2         K.K. House   snuffle     villager-agnes   \n",
       "3         Steep Hill   Ayyeeee        villager-al   \n",
       "4        Forest Life  it'sa me   villager-alfonso   \n",
       "..               ...       ...                ...   \n",
       "386         My Place    hay-OK    villager-winnie   \n",
       "387        K.K. Song   snarrrl  villager-wolfgang   \n",
       "388     Soulful K.K.   tsk tsk      villager-yuka   \n",
       "389         K.K. D&B     pronk      villager-zell   \n",
       "390  Spring Blossoms     bloop    villager-zucker   \n",
       "\n",
       "                                                   url  \n",
       "0    https://villagerdb.com/images/villagers/thumb/...  \n",
       "1    https://villagerdb.com/images/villagers/thumb/...  \n",
       "2    https://villagerdb.com/images/villagers/thumb/...  \n",
       "3    https://villagerdb.com/images/villagers/thumb/...  \n",
       "4    https://villagerdb.com/images/villagers/thumb/...  \n",
       "..                                                 ...  \n",
       "386  https://villagerdb.com/images/villagers/thumb/...  \n",
       "387  https://villagerdb.com/images/villagers/thumb/...  \n",
       "388  https://villagerdb.com/images/villagers/thumb/...  \n",
       "389  https://villagerdb.com/images/villagers/thumb/...  \n",
       "390  https://villagerdb.com/images/villagers/thumb/...  \n",
       "\n",
       "[391 rows x 11 columns]"
      ]
     },
     "execution_count": 4,
     "metadata": {},
     "output_type": "execute_result"
    }
   ],
   "source": [
    "df"
   ]
  },
  {
   "cell_type": "code",
   "execution_count": 8,
   "id": "d0f48e3e",
   "metadata": {},
   "outputs": [
    {
     "data": {
      "text/html": [
       "<div>\n",
       "<style scoped>\n",
       "    .dataframe tbody tr th:only-of-type {\n",
       "        vertical-align: middle;\n",
       "    }\n",
       "\n",
       "    .dataframe tbody tr th {\n",
       "        vertical-align: top;\n",
       "    }\n",
       "\n",
       "    .dataframe thead th {\n",
       "        text-align: right;\n",
       "    }\n",
       "</style>\n",
       "<table border=\"1\" class=\"dataframe\">\n",
       "  <thead>\n",
       "    <tr style=\"text-align: right;\">\n",
       "      <th></th>\n",
       "      <th>row_n</th>\n",
       "    </tr>\n",
       "  </thead>\n",
       "  <tbody>\n",
       "    <tr>\n",
       "      <th>count</th>\n",
       "      <td>391.000000</td>\n",
       "    </tr>\n",
       "    <tr>\n",
       "      <th>mean</th>\n",
       "      <td>239.902813</td>\n",
       "    </tr>\n",
       "    <tr>\n",
       "      <th>std</th>\n",
       "      <td>140.702672</td>\n",
       "    </tr>\n",
       "    <tr>\n",
       "      <th>min</th>\n",
       "      <td>2.000000</td>\n",
       "    </tr>\n",
       "    <tr>\n",
       "      <th>25%</th>\n",
       "      <td>117.500000</td>\n",
       "    </tr>\n",
       "    <tr>\n",
       "      <th>50%</th>\n",
       "      <td>240.000000</td>\n",
       "    </tr>\n",
       "    <tr>\n",
       "      <th>75%</th>\n",
       "      <td>363.500000</td>\n",
       "    </tr>\n",
       "    <tr>\n",
       "      <th>max</th>\n",
       "      <td>483.000000</td>\n",
       "    </tr>\n",
       "  </tbody>\n",
       "</table>\n",
       "</div>"
      ],
      "text/plain": [
       "            row_n\n",
       "count  391.000000\n",
       "mean   239.902813\n",
       "std    140.702672\n",
       "min      2.000000\n",
       "25%    117.500000\n",
       "50%    240.000000\n",
       "75%    363.500000\n",
       "max    483.000000"
      ]
     },
     "execution_count": 8,
     "metadata": {},
     "output_type": "execute_result"
    }
   ],
   "source": [
    "df.describe()"
   ]
  },
  {
   "cell_type": "code",
   "execution_count": 10,
   "id": "5c4cef5f",
   "metadata": {},
   "outputs": [
    {
     "data": {
      "text/plain": [
       "gender\n",
       "male      204\n",
       "female    187\n",
       "Name: count, dtype: int64"
      ]
     },
     "execution_count": 10,
     "metadata": {},
     "output_type": "execute_result"
    }
   ],
   "source": [
    "df['gender'].value_counts()"
   ]
  },
  {
   "cell_type": "markdown",
   "id": "4d5e39ff",
   "metadata": {},
   "source": [
    "4.If the dataset you're using has (a) non-numeric variables and (b) missing values in numeric variables, explain (perhaps using help from a ChatBot if needed) the discrepancies between size of the dataset given by df.shape and what is reported by df.describe() with respect to (a) the number of columns it analyzes and (b) the values it reports in the \"count\" column"
   ]
  },
  {
   "cell_type": "markdown",
   "id": "6f2bd596",
   "metadata": {},
   "source": [
    "Number of columns analyzed\n",
    "df.shape reports the total number of numbers regardless if it's a number or not(report both numeric and non-numeric). Whereas df.describe() only analyzes the numeric values, ignoring non-numerics unless explicity stated.\n",
    "\n",
    "\n",
    "Values reported in Count Column\n",
    "df.shape reports the total number of rows, regardless of the missing values. On the other hand, df.describe() provides the count of non-missing values for each numeric column and can also include counts for non-numeric columns if requested."
   ]
  },
  {
   "cell_type": "markdown",
   "id": "a21e2706",
   "metadata": {},
   "source": [
    "5.Use your ChatBot session to help understand the difference between the following and then provide your own paraphrasing summarization of that difference\n",
    "-an \"attribute\", such as df.shape which does not end with ()\n",
    "-and a \"method\", such as df.describe() which does end with ()"
   ]
  },
  {
   "cell_type": "markdown",
   "id": "9a006839",
   "metadata": {},
   "source": [
    "An attribute does not perform any operation, it simply stores an value in the object. To be more specific, attributes accessing is like reading property of an object; it does not invoke operations, but store the information an object.\n",
    "\n",
    "Invoking method requires computation and the function of the parentheses is to take in the argument. After having the argument, the method can then return values and even modify the object.\n",
    "\n",
    "The following example is credited from chatgpt"
   ]
  },
  {
   "cell_type": "code",
   "execution_count": null,
   "id": "5039c11f",
   "metadata": {},
   "outputs": [],
   "source": [
    "import pandas as pd\n",
    "\n",
    "# Example DataFrame\n",
    "df = pd.DataFrame({'A': [1, 2, 3], 'B': [4, 5, 6]})\n",
    "\n",
    "# Accessing an attribute\n",
    "print(df.shape)  # (3, 2) - an attribute that describes the structure of the DataFram\n",
    "\n",
    "# Calling a method\n",
    "print(df.describe())  # calculates and returns descriptive statistics for the data"
   ]
  },
  {
   "cell_type": "markdown",
   "id": "895a8cf1",
   "metadata": {},
   "source": [
    "chatlog histories: https://chatgpt.com/share/66e352de-9d88-800f-90ad-303609af8ddf"
   ]
  },
  {
   "cell_type": "markdown",
   "id": "4bcc9ba7",
   "metadata": {},
   "source": [
    "6.The df.describe() method provides the 'count', 'mean', 'std', 'min', '25%', '50%', '75%', and 'max' summary statistics for each variable it analyzes. Give the definitions (perhaps using help from the ChatBot if needed) of each of these summary statistics"
   ]
  },
  {
   "cell_type": "markdown",
   "id": "3c33a8d4",
   "metadata": {},
   "source": [
    "The method 'count' counts the number of non-missing values in each columns. The purpose of count method indicates how many valid entries exist. For example, if the column has total of 50 rows and 2 missing values; the count for this dataset will be 48.\n",
    "\n",
    "Mean is the arithmetic average of the values in the column. It provides a measure of the central tendency of the values. In a column with values [2, 5, 5], the mean would be (2+5+5)/3= 4\n",
    "\n",
    "Standard deviation is  a measure that reflects the spread or dispersion of values around the mean, indicating the extent to which the values differ from the average. The purpose of it is to help in comprehending the degree of variation present in the data. A greater standard deviation signifies that the values are more widely dispersed. To illustrate, if the values are closely clustered together (e.g., [3, 4, 4, 5]), the standard deviation will be low. Conversely, if the values are widely varied (e.g., [1, 10, 20, 50]), the standard deviation will be high.\n",
    "\n",
    "Min is the smallest value in the column. It helps to determine the smallest value in the dataset. In a column containing the values [1, 5, 10], the minimum value is 1.\n",
    "\n",
    "The value at which 25% of the data is below it, commonly referred to as the first quartile (Q1). It offers insight into the lower quarter of the data distribution.In the ordered list [1, 2, 3, 4], the 25th percentile is 1.75, which separates the lowest 25% of the data.\n",
    "\n",
    "The value at which 50% of the data is below it, commonly referred to as the median. A reliable measure of central tendency that is less influenced by outliers than the mean, effectively dividing the data into two equal halves.In the ordered list [1, 2, 3, 4, 5], the median (50th percentile) is 3.\n",
    "\n",
    "The value below which 75% of the data lies, commonly referred to as the third quartile (Q3). It offers insight into the upper quarter of the data distribution. In the ordered list [1, 2, 3, 4, 5, 6], the 75th percentile is 4.75, which distinguishes the highest 25% of the data.\n",
    "\n",
    "Max is the highest value in the column. It determines the largest data point in the dataset. In a column containing the values [1, 5, 10], the maximum is 10.\n",
    "\n"
   ]
  },
  {
   "cell_type": "markdown",
   "id": "13f8d988",
   "metadata": {},
   "source": [
    "7.Missing data can be considered \"across rows\" or \"down columns\". Consider how df.dropna() or del df['col'] should be applied to most efficiently use the available non-missing data in your dataset and briefly answer the following questions in your own words\n",
    "Provide an example of a \"use case\" in which using df.dropna() might be peferred over using del df['col']\n",
    "\n",
    "\n",
    "Remove all missing data from one of the datasets you're considering using some combination of del df['col'] and/or df.dropna() and give a justification for your approach, including a \"before and after\" report of the results of your approach for your dataset.\n"
   ]
  },
  {
   "cell_type": "markdown",
   "id": "e76bdfb3",
   "metadata": {},
   "source": [
    "Provide an example of a \"use case\" in which using df.dropna() might be peferred over using del df['col']\n",
    "\n",
    "df.dropna() is prefeered over using del df['col'] when the missing values are spread out. In other words, when you want to eliminate particular rows containing missing values while keeping all columns intact. In this scenario, it ensures that important variables, such as Age, are preserved while tidying up the dataset."
   ]
  },
  {
   "cell_type": "markdown",
   "id": "ab026771",
   "metadata": {},
   "source": [
    "Provide an example of \"the opposite use case\" in which using del df['col'] might be preferred over using df.dropna()\n",
    "\n",
    "del df['col'] is useful when you need to remove an entire column, particularly if it contains a significant number of missing values or is not pertinent to your analysis."
   ]
  },
  {
   "cell_type": "markdown",
   "id": "4fc5d273",
   "metadata": {},
   "source": [
    "Discuss why applying del df['col'] before df.dropna() when both are used together could be important\n",
    "\n",
    "Applying `del df['col']` before using `df.dropna()` is crucial for several reasons. First, it prevents unnecessary data loss by eliminating irrelevant columns that contain a significant number of missing values before rows are dropped. This approach allows you to concentrate on the relevant columns, ensuring that only rows with missing values in important data are removed. Additionally, it leads to a more efficient and controlled data cleaning process, minimizing the risk of inadvertently discarding valuable information. This method also enhances clarity in the data cleaning steps, making the overall process more structured and comprehensible. By carefully sequencing these operations, you can retain more valid data for analysis while effectively cleaning your dataset."
   ]
  },
  {
   "cell_type": "markdown",
   "id": "2e781e11",
   "metadata": {},
   "source": [
    "Remove all missing data from one of the datasets you're considering using some combination of del df['col'] and/or df.dropna() and give a justification for your approach, including a \"before and after\" report of the results of your approach for your dataset.\n",
    "\n",
    "Steps:\n",
    "\n",
    "1. Examine the dataset for any missing values.\n",
    "\n",
    "2. Determine which columns to remove using `del df['col']`, particularly if they contain excessive missing values or are not pertinent to the analysis.\n",
    "\n",
    "3. Use `df.dropna()` to eliminate rows with missing data from the relevant columns that remain.\n",
    "\n",
    "4. Compare the dimensions of the dataset before and after the cleaning process."
   ]
  },
  {
   "cell_type": "code",
   "execution_count": null,
   "id": "f0ab95be",
   "metadata": {},
   "outputs": [],
   "source": [
    "import pandas as pd\n",
    "\n",
    "# Load Titanic dataset\n",
    "url = \"https://raw.githubusercontent.com/mwaskom/seaborn-data/master/titanic.csv\"\n",
    "df = pd.read_csv(url)\n",
    "\n",
    "# Show initial shape of the dataset\n",
    "print(\"Initial dataset shape:\", df.shape)\n",
    "\n",
    "# Check for missing values\n",
    "print(df.isna().sum())"
   ]
  },
  {
   "cell_type": "markdown",
   "id": "a4cb3ebc",
   "metadata": {},
   "source": [
    "Initial dataset shape: (891, 15)\n",
    "\n",
    "survived         0\n",
    "pclass           0\n",
    "sex              0\n",
    "age            177\n",
    "sibsp            0\n",
    "parch            0\n",
    "fare             0\n",
    "embarked         2\n",
    "class            0\n",
    "who              0\n",
    "adult_male       0\n",
    "deck           688\n",
    "embark_town      2\n",
    "alive            0\n",
    "alone            0\n"
   ]
  },
  {
   "cell_type": "markdown",
   "id": "6b35cfdf",
   "metadata": {},
   "source": [
    "Decision to Remove Columns:\n",
    "\n",
    "The \"deck\" column contains 688 missing values, representing over 77% of the dataset (891 rows). Since this column is likely not critical for our analysis, we will remove it using `del df['deck']`. On the other hand, the \"embarked\" and \"embark_town\" columns each have only 2 missing values. As these columns are significant for understanding where passengers boarded the ship, we will not delete them; instead, we will handle the missing values by removing the rows with incomplete data using `dropna()`."
   ]
  },
  {
   "cell_type": "code",
   "execution_count": null,
   "id": "4604c807",
   "metadata": {},
   "outputs": [],
   "source": [
    "# Delete the 'deck' column due to excessive missing values\n",
    "del df['deck']\n",
    "\n",
    "# Now drop rows with missing values in the remaining relevant columns\n",
    "df_clean = df.dropna()\n",
    "\n",
    "# Show the shape of the dataset after cleaning\n",
    "print(\"Cleaned dataset shape:\", df_clean.shape)\n",
    "\n",
    "# Check if there are any remaining missing values\n",
    "print(df_clean.isna().sum())"
   ]
  },
  {
   "cell_type": "markdown",
   "id": "b89be1c3",
   "metadata": {},
   "source": [
    "Justification for the approach\n",
    "\n",
    "Removing 'deck': Given that this column has over 77% of its values missing, it is not dependable for analysis. With more gaps than actual data, it is logical to eliminate it entirely.\n",
    "\n",
    "Dropping rows with missing 'age', 'embarked', and 'embark_town': These columns are crucial for various analyses (such as survival rates by age or embarkation town). Since the number of missing rows is minimal relative to the overall dataset, removing them helps maintain data integrity without sacrificing significant information."
   ]
  },
  {
   "cell_type": "code",
   "execution_count": null,
   "id": "ab093af0",
   "metadata": {},
   "outputs": [],
   "source": [
    "#after cleaning\n",
    "Cleaned dataset shape: (712, 14)"
   ]
  },
  {
   "cell_type": "markdown",
   "id": "56918c73",
   "metadata": {},
   "source": [
    "By initially removing the deck column, which had a high number of missing values, and subsequently using `df.dropna()` to eliminate rows with missing data in key columns (age, embarked, and embark_town), we successfully cleaned the dataset while retaining the most relevant and dependable information. This strategy enabled us to preserve a significant portion of the data (712 out of 891 rows) while ensuring that the remaining dataset is devoid of missing values and concentrated on essential variables for analysis."
   ]
  },
  {
   "cell_type": "markdown",
   "id": "07bcbf5d",
   "metadata": {},
   "source": [
    "chatlog histories: https://chatgpt.com/share/66e3776c-edbc-800f-8b84-eaba4284223b"
   ]
  },
  {
   "cell_type": "markdown",
   "id": "24cb8360",
   "metadata": {},
   "source": [
    "8.Give brief explanations in your own words for any requested answers to the questions below\n",
    "Use your ChatBot session to understand what df.groupby(\"col1\")[\"col2\"].describe() does and then demonstrate and explain this using a different example from the \"titanic\" data set other than what the ChatBot automatically provide for you"
   ]
  },
  {
   "cell_type": "code",
   "execution_count": 2,
   "id": "cdb62b25",
   "metadata": {},
   "outputs": [
    {
     "data": {
      "text/html": [
       "<div>\n",
       "<style scoped>\n",
       "    .dataframe tbody tr th:only-of-type {\n",
       "        vertical-align: middle;\n",
       "    }\n",
       "\n",
       "    .dataframe tbody tr th {\n",
       "        vertical-align: top;\n",
       "    }\n",
       "\n",
       "    .dataframe thead th {\n",
       "        text-align: right;\n",
       "    }\n",
       "</style>\n",
       "<table border=\"1\" class=\"dataframe\">\n",
       "  <thead>\n",
       "    <tr style=\"text-align: right;\">\n",
       "      <th></th>\n",
       "      <th>survived</th>\n",
       "      <th>pclass</th>\n",
       "      <th>sex</th>\n",
       "      <th>age</th>\n",
       "      <th>sibsp</th>\n",
       "      <th>parch</th>\n",
       "      <th>fare</th>\n",
       "      <th>embarked</th>\n",
       "      <th>class</th>\n",
       "      <th>who</th>\n",
       "      <th>adult_male</th>\n",
       "      <th>deck</th>\n",
       "      <th>embark_town</th>\n",
       "      <th>alive</th>\n",
       "      <th>alone</th>\n",
       "    </tr>\n",
       "  </thead>\n",
       "  <tbody>\n",
       "    <tr>\n",
       "      <th>0</th>\n",
       "      <td>0</td>\n",
       "      <td>3</td>\n",
       "      <td>male</td>\n",
       "      <td>22.0</td>\n",
       "      <td>1</td>\n",
       "      <td>0</td>\n",
       "      <td>7.2500</td>\n",
       "      <td>S</td>\n",
       "      <td>Third</td>\n",
       "      <td>man</td>\n",
       "      <td>True</td>\n",
       "      <td>NaN</td>\n",
       "      <td>Southampton</td>\n",
       "      <td>no</td>\n",
       "      <td>False</td>\n",
       "    </tr>\n",
       "    <tr>\n",
       "      <th>1</th>\n",
       "      <td>1</td>\n",
       "      <td>1</td>\n",
       "      <td>female</td>\n",
       "      <td>38.0</td>\n",
       "      <td>1</td>\n",
       "      <td>0</td>\n",
       "      <td>71.2833</td>\n",
       "      <td>C</td>\n",
       "      <td>First</td>\n",
       "      <td>woman</td>\n",
       "      <td>False</td>\n",
       "      <td>C</td>\n",
       "      <td>Cherbourg</td>\n",
       "      <td>yes</td>\n",
       "      <td>False</td>\n",
       "    </tr>\n",
       "    <tr>\n",
       "      <th>2</th>\n",
       "      <td>1</td>\n",
       "      <td>3</td>\n",
       "      <td>female</td>\n",
       "      <td>26.0</td>\n",
       "      <td>0</td>\n",
       "      <td>0</td>\n",
       "      <td>7.9250</td>\n",
       "      <td>S</td>\n",
       "      <td>Third</td>\n",
       "      <td>woman</td>\n",
       "      <td>False</td>\n",
       "      <td>NaN</td>\n",
       "      <td>Southampton</td>\n",
       "      <td>yes</td>\n",
       "      <td>True</td>\n",
       "    </tr>\n",
       "    <tr>\n",
       "      <th>3</th>\n",
       "      <td>1</td>\n",
       "      <td>1</td>\n",
       "      <td>female</td>\n",
       "      <td>35.0</td>\n",
       "      <td>1</td>\n",
       "      <td>0</td>\n",
       "      <td>53.1000</td>\n",
       "      <td>S</td>\n",
       "      <td>First</td>\n",
       "      <td>woman</td>\n",
       "      <td>False</td>\n",
       "      <td>C</td>\n",
       "      <td>Southampton</td>\n",
       "      <td>yes</td>\n",
       "      <td>False</td>\n",
       "    </tr>\n",
       "    <tr>\n",
       "      <th>4</th>\n",
       "      <td>0</td>\n",
       "      <td>3</td>\n",
       "      <td>male</td>\n",
       "      <td>35.0</td>\n",
       "      <td>0</td>\n",
       "      <td>0</td>\n",
       "      <td>8.0500</td>\n",
       "      <td>S</td>\n",
       "      <td>Third</td>\n",
       "      <td>man</td>\n",
       "      <td>True</td>\n",
       "      <td>NaN</td>\n",
       "      <td>Southampton</td>\n",
       "      <td>no</td>\n",
       "      <td>True</td>\n",
       "    </tr>\n",
       "  </tbody>\n",
       "</table>\n",
       "</div>"
      ],
      "text/plain": [
       "   survived  pclass     sex   age  sibsp  parch     fare embarked  class  \\\n",
       "0         0       3    male  22.0      1      0   7.2500        S  Third   \n",
       "1         1       1  female  38.0      1      0  71.2833        C  First   \n",
       "2         1       3  female  26.0      0      0   7.9250        S  Third   \n",
       "3         1       1  female  35.0      1      0  53.1000        S  First   \n",
       "4         0       3    male  35.0      0      0   8.0500        S  Third   \n",
       "\n",
       "     who  adult_male deck  embark_town alive  alone  \n",
       "0    man        True  NaN  Southampton    no  False  \n",
       "1  woman       False    C    Cherbourg   yes  False  \n",
       "2  woman       False  NaN  Southampton   yes   True  \n",
       "3  woman       False    C  Southampton   yes  False  \n",
       "4    man        True  NaN  Southampton    no   True  "
      ]
     },
     "execution_count": 2,
     "metadata": {},
     "output_type": "execute_result"
    }
   ],
   "source": [
    "df.head()"
   ]
  },
  {
   "cell_type": "code",
   "execution_count": 6,
   "id": "ffc4e367",
   "metadata": {},
   "outputs": [
    {
     "name": "stdout",
     "output_type": "stream",
     "text": [
      "       count unique    top freq\n",
      "sex                            \n",
      "female   314      3  Third  144\n",
      "male     577      3  Third  347\n"
     ]
    }
   ],
   "source": [
    "import pandas as pd\n",
    "# Load Titanic dataset from URL\n",
    "url = \"https://raw.githubusercontent.com/mwaskom/seaborn-data/master/titanic.csv\"\n",
    "df = pd.read_csv(url)\n",
    "\n",
    "# Group by 'sex' column and describe 'age' column\n",
    "grouped = df.groupby(\"sex\")[\"class\"].describe()\n",
    "print(grouped)"
   ]
  },
  {
   "cell_type": "markdown",
   "id": "5bf4a6f5",
   "metadata": {},
   "source": [
    "Assuming you've not yet removed missing values in the manner of question \"7\" above, df.describe() would have different values in the count value for different data columns depending on the missingness present in the original data. Why do these capture something fundamentally different from the values in the count that result from doing something like df.groupby(\"col1\")[\"col2\"].describe()?\n",
    "\n",
    "In df.describe(), the count indicates the number of non-missing values for each column individually, showcasing the completeness of each column. This contrasts with df.groupby(\"col1\")[\"col2\"].describe(), where the count denotes the number of non-missing col2 values within each group defined by col1. The former offers a general overview of missing values across columns, while the latter provides a group-wise analysis of data completeness and summary statistics, emphasizing the relationships between the two columns."
   ]
  },
  {
   "cell_type": "markdown",
   "id": "a078ad6d",
   "metadata": {},
   "source": [
    "A. Forget to include import pandas as pd in your code\n",
    "It is easier to fix this issue on ChatBot since it provides you the code that you need to input in order to fix the error."
   ]
  },
  {
   "cell_type": "code",
   "execution_count": null,
   "id": "eda6473e",
   "metadata": {},
   "outputs": [],
   "source": [
    "import pandas as pd"
   ]
  },
  {
   "cell_type": "markdown",
   "id": "68d29050",
   "metadata": {},
   "source": [
    "B. Mistype \"titanic.csv\" as \"titanics.csv\""
   ]
  },
  {
   "cell_type": "markdown",
   "id": "ea1df4b4",
   "metadata": {
    "slideshow": {
     "slide_type": "slide"
    }
   },
   "source": [
    "It is easir to fix this issue on ChatBot as it can directly notice the spelling mistake by comparing to previous code. Google search gives you tons of csv file to read through.;"
   ]
  },
  {
   "cell_type": "markdown",
   "id": "f394d776",
   "metadata": {},
   "source": [
    "C. Try to use a dataframe before it's been assigned into the variable"
   ]
  },
  {
   "cell_type": "markdown",
   "id": "a9a0e6d0",
   "metadata": {},
   "source": [
    "It is easier to fix this issue on ChatBot as it states variable not defined and it helps you assign datasame to a variable. Google did not explicitly catch the mistake made."
   ]
  },
  {
   "cell_type": "markdown",
   "id": "1decc263",
   "metadata": {},
   "source": [
    "D. Forget one of the parentheses somewhere the code"
   ]
  },
  {
   "cell_type": "markdown",
   "id": "fe493816",
   "metadata": {},
   "source": [
    "Chatbot and google can both spot the error. They provide explanations and solutions to fix the error."
   ]
  },
  {
   "cell_type": "markdown",
   "id": "9bc2a317",
   "metadata": {},
   "source": [
    "E. Mistype one of the names of the chained functions with the code"
   ]
  },
  {
   "cell_type": "markdown",
   "id": "4a3a19ed",
   "metadata": {},
   "source": [
    "Both chatbot and google take a while to figure this question. Google can not solve this problem explicitly, but it keeps showwing up the file that has similar code. Whereas chatbot is saying that the variable is not defined and it does not say mistyping the word can be a problem. In short, mistyping the name of the code might be difficult for chatbot and google to spot. It might require humans' digilience to notice the minute error."
   ]
  },
  {
   "cell_type": "markdown",
   "id": "704315a6",
   "metadata": {},
   "source": [
    "F. Use a column name that's not in your data for the groupby and column selection"
   ]
  },
  {
   "cell_type": "markdown",
   "id": "4d3045d7",
   "metadata": {},
   "source": [
    "Chatbot can solve the issue quicker compare to google since it knows what you are typing from the code provided above"
   ]
  },
  {
   "cell_type": "markdown",
   "id": "481f23da",
   "metadata": {},
   "source": [
    "G. Forget to put the column name as a string in quotes for the groupby and column selection, and see if the ChatBot and google are still as helpful as they were for the previous question"
   ]
  },
  {
   "cell_type": "markdown",
   "id": "6013791f",
   "metadata": {},
   "source": [
    "Base on the conversation happened before in the chatbot, chatbot can spot and fix the error in a more efficient manner compare to google."
   ]
  }
 ],
 "metadata": {
  "kernelspec": {
   "display_name": "Python 3 (ipykernel)",
   "language": "python",
   "name": "python3"
  },
  "language_info": {
   "codemirror_mode": {
    "name": "ipython",
    "version": 3
   },
   "file_extension": ".py",
   "mimetype": "text/x-python",
   "name": "python",
   "nbconvert_exporter": "python",
   "pygments_lexer": "ipython3",
   "version": "3.11.6"
  }
 },
 "nbformat": 4,
 "nbformat_minor": 5
}
